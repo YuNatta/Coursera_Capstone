{
    "nbformat_minor": 1, 
    "cells": [
        {
            "source": "# Capstone Project - The Battle of Neighborhoods (Week 1)\n**INVESTMENT IN THE MELBOURN REAL ESTATE MARKET**", 
            "cell_type": "markdown", 
            "metadata": {
                "collapsed": true
            }
        }, 
        {
            "source": "_Author: Yulia Lopez_", 
            "cell_type": "markdown", 
            "metadata": {}
        }, 
        {
            "source": "## Content:\n* <a href='#intro'>1. Introduction</a>\n* <a href='#bp'>1.1. Business Problem</a>\n* <a href='#data'>2. Data Section</a>\n    * <a href='#data21'>2.1 Data Required to resolve the problem</a>\n    * <a href='#data22'>2.2 Data Description</a>\n    * <a href='#data23'> 2.3 Using available data for problem solving</a>\n* <a href='#meth'>3. Methodology</a>\n* <a href='#res'>4. Results</a>\n* <a href='#dis'>5. Discussion</a>\n* <a href='#conc'>6. Conclusion</a>", 
            "cell_type": "markdown", 
            "metadata": {}
        }, 
        {
            "source": "<a id='intro'></a>\n## 1. Introduction:", 
            "cell_type": "markdown", 
            "metadata": {}
        }, 
        {
            "source": "I work for a prospective investor in the Melbourne real estate market.  The client's view is to attain a foothold in the Melbourne market before the predicted upswing in the next six to twelve months.  The property must be within client's ability to service the loan.  Based on client's approach to a bank, they will lend up to 410k-550k AUD on a property.\n\n**Restrictions** \nAfter conducting research of bank lending practices, even though APRA have lifted recently introduced tougher restrictions on bank lending to investors, banks are still hesitant to lend willingly beyond a Loan-to-Value ratio (LVR) of more than 70%. This means that banks are still only willing to lend 70% of the bank valuation of a property for investment purposes (instead of the 90% pre-restrictions). This is due to the banks wanting to restrict their exposure to poor market conditions and not willing to hold high quantities of security in stock due to the glut of new apartments released into the market, especially in high rise developments. This is the reason many major banks including AMP, Macquarie and NAB will not lend (or severely restrict lending) to real estate \u201cblacklisted\u201d postcode. Typically these will be in or very close to the Melbourne CBD due to the high density of apartments. \n\n**Market Outlook** \nThis is dependent on who is making the prediction but the majority of forecasters are predicting six to 12 months before the upswing genuinely occurs. Even at the moment with auction clearance rates now at 76%, market signs indicate that in some areas and property types the market is bottoming out and the upswing may already be happening. \nAnother factor to consider is the area with many commentators predicting the areas of high demand being the south-east of the city within a 22km radius. This is due to the abundance of good schools (public and private), infrastructure spending, gentrification of older suburbs, good transport links and proximity to beaches and public spaces, but not being too far for a city commute. \n\n**Interested Audience:** I believe this is an interesting and usufull challenge with valid questions for anyone who considered to make an investment in large cities in Australia, Canada, US, EU, Asia, etc. The same methodology can be applied in accordance to demands as applicable. This case is also applicable for anyone interested in exploring starting or locating a new business in any city. Lastly, it can also serve as a good practical exercise to develop Data Science skills.", 
            "cell_type": "markdown", 
            "metadata": {}
        }, 
        {
            "source": "<a id='bp'></a>\n## 1.1 Business Problem:", 
            "cell_type": "markdown", 
            "metadata": {}
        }, 
        {
            "source": "The aim of this project is to locate an investment apartment in a bank lending \u201csweet spot\u201d rather than a \u201cblacklisted\u201d postcode. From research (shown later), these range from 7km to 20km distance from the Melbourne CBD, are not in a high rise development (more than four stories high), located in a south-east direction of the CBD (higher demand and better schools) and are two bedrooms or more. ", 
            "cell_type": "markdown", 
            "metadata": {}
        }, 
        {
            "source": "<a id='data'></a>\n# 2. Data Section", 
            "cell_type": "markdown", 
            "metadata": {}
        }, 
        {
            "source": "<a id='data21'></a>\n## 2.1 Data Required to resolve the problem", 
            "cell_type": "markdown", 
            "metadata": {}
        }, 
        {
            "source": "###  Data of Referral Point : \n**Ideal property** for client' personal circumstances and cashflow position, - a two bedroom, one bathroom, with 1 car space apartment in the 7 to 22km range. The price should be no more than 410k-550k AUD. Client made a choice of reference point - 209/222 Bay Road Sandringham Vic 3191 being 19km from the city centre in the south\u2013east and also being a beach-side postcode. Even though a little higher in price at $425k, most sales in Melbourne (non-auction) are selling at below asking price. Foursquare will be used to identify the venues around the referral area of residence which will be shown later in map. It serves as a reference for comparison with the future location in Melbourne, Vic.\n\n###  Data for suburbs analysis: \nIn order to make a good choice of a appropriate apartment in Melbourne Vic, the following data is required: \n* Information on Melbourne neighborhoods with Geodata ( latitud and longitud.)\n* Listed apartments for sell in Melbourne area with descriptions ( number of beds, bath, garash spots, price, location, etc.) \n* List of \u201csweet spot\u201d/\u201cblacklisted\u201d postcode of Melbourne according to Banks.\n* Venues and ammenities in the Melbourne suburbs (e.g. top 10). \n", 
            "cell_type": "markdown", 
            "metadata": {}
        }, 
        {
            "source": "<a id='data22'></a>\n## 2.2 Data Description\n\n* The table of Australian Suburbs will be taken from Wikipage - https://en.wikipedia.org/wiki/List_of_Melbourne_suburbs and from database at http://www.corra.com.au/australian-postcode-location-data/ with extract Melbourne suburbs later. \n\n* Table of Melbourne's riskiest suburbs for home loan lending will be taken from Australian Bureau of Statistics.\n* A list of places for sell was collected by web-browsing real estate companies in Melbourne - https://www.realestate.com.au/. A \"Msuburbs.csv\" csv file was compiled with the place for sell that indicated: suburb of Melbourne, address, price, array sqr/m., number of beds, number of garash spots, distanc to CBD/beach. ", 
            "cell_type": "markdown", 
            "metadata": {}
        }, 
        {
            "execution_count": 40, 
            "cell_type": "code", 
            "metadata": {
                "tags": [
                    "remove_cell"
                ]
            }, 
            "outputs": [], 
            "source": "# The code was removed by Watson Studio for sharing."
        }, 
        {
            "source": "**The table of Australian Suburbs**", 
            "cell_type": "markdown", 
            "metadata": {}
        }, 
        {
            "execution_count": 32, 
            "cell_type": "code", 
            "metadata": {}, 
            "outputs": [
                {
                    "execution_count": 32, 
                    "metadata": {}, 
                    "data": {
                        "text/html": "<div>\n<style scoped>\n    .dataframe tbody tr th:only-of-type {\n        vertical-align: middle;\n    }\n\n    .dataframe tbody tr th {\n        vertical-align: top;\n    }\n\n    .dataframe thead th {\n        text-align: right;\n    }\n</style>\n<table border=\"1\" class=\"dataframe\">\n  <thead>\n    <tr style=\"text-align: right;\">\n      <th></th>\n      <th>postcode</th>\n      <th>suburb</th>\n      <th>state</th>\n      <th>dc</th>\n      <th>type</th>\n      <th>lat</th>\n      <th>lon</th>\n    </tr>\n  </thead>\n  <tbody>\n    <tr>\n      <th>0</th>\n      <td>200</td>\n      <td>AUSTRALIAN NATIONAL UNIVERSITY</td>\n      <td>ACT</td>\n      <td>AUSTRALIAN NATIONAL UNI LPO</td>\n      <td>Post Office Boxes</td>\n      <td>-35.277272</td>\n      <td>149.117136</td>\n    </tr>\n    <tr>\n      <th>1</th>\n      <td>221</td>\n      <td>BARTON</td>\n      <td>ACT</td>\n      <td>NaN</td>\n      <td>LVR</td>\n      <td>-35.201372</td>\n      <td>149.095065</td>\n    </tr>\n    <tr>\n      <th>2</th>\n      <td>800</td>\n      <td>DARWIN</td>\n      <td>NT</td>\n      <td>DARWIN DELIVERY CENTRE</td>\n      <td>Delivery Area</td>\n      <td>-12.801028</td>\n      <td>130.955789</td>\n    </tr>\n    <tr>\n      <th>3</th>\n      <td>801</td>\n      <td>DARWIN</td>\n      <td>NT</td>\n      <td>DARWIN DELIVERY CENTRE</td>\n      <td>Post Office Boxes</td>\n      <td>-12.801028</td>\n      <td>130.955789</td>\n    </tr>\n    <tr>\n      <th>4</th>\n      <td>804</td>\n      <td>PARAP</td>\n      <td>NT</td>\n      <td>PARAP</td>\n      <td>Post Office Boxes</td>\n      <td>-12.432181</td>\n      <td>130.843310</td>\n    </tr>\n  </tbody>\n</table>\n</div>", 
                        "text/plain": "   postcode                          suburb state  \\\n0       200  AUSTRALIAN NATIONAL UNIVERSITY   ACT   \n1       221                          BARTON   ACT   \n2       800                          DARWIN    NT   \n3       801                          DARWIN    NT   \n4       804                           PARAP    NT   \n\n                            dc                                           type  \\\n0  AUSTRALIAN NATIONAL UNI LPO  Post Office Boxes                               \n1                          NaN  LVR                                             \n2       DARWIN DELIVERY CENTRE  Delivery Area                                   \n3       DARWIN DELIVERY CENTRE  Post Office Boxes                               \n4                        PARAP  Post Office Boxes                               \n\n         lat         lon  \n0 -35.277272  149.117136  \n1 -35.201372  149.095065  \n2 -12.801028  130.955789  \n3 -12.801028  130.955789  \n4 -12.432181  130.843310  "
                    }, 
                    "output_type": "execute_result"
                }
            ], 
            "source": "AU_pc.head()\n"
        }, 
        {
            "source": "**Table of Melbourne's riskiest suburbs for home loan lending**", 
            "cell_type": "markdown", 
            "metadata": {}
        }, 
        {
            "execution_count": 37, 
            "cell_type": "code", 
            "metadata": {}, 
            "outputs": [
                {
                    "execution_count": 37, 
                    "metadata": {}, 
                    "data": {
                        "text/html": "<div>\n<style scoped>\n    .dataframe tbody tr th:only-of-type {\n        vertical-align: middle;\n    }\n\n    .dataframe tbody tr th {\n        vertical-align: top;\n    }\n\n    .dataframe thead th {\n        text-align: right;\n    }\n</style>\n<table border=\"1\" class=\"dataframe\">\n  <thead>\n    <tr style=\"text-align: right;\">\n      <th></th>\n      <th>Post Code</th>\n      <th>Average of Risk Score</th>\n    </tr>\n  </thead>\n  <tbody>\n    <tr>\n      <th>0</th>\n      <td>3142</td>\n      <td>21.9</td>\n    </tr>\n    <tr>\n      <th>1</th>\n      <td>3182</td>\n      <td>20.1</td>\n    </tr>\n    <tr>\n      <th>2</th>\n      <td>3186</td>\n      <td>19.8</td>\n    </tr>\n    <tr>\n      <th>3</th>\n      <td>3143</td>\n      <td>19.7</td>\n    </tr>\n    <tr>\n      <th>4</th>\n      <td>3067</td>\n      <td>19.4</td>\n    </tr>\n  </tbody>\n</table>\n</div>", 
                        "text/plain": "   Post Code  Average of Risk Score\n0       3142                   21.9\n1       3182                   20.1\n2       3186                   19.8\n3       3143                   19.7\n4       3067                   19.4"
                    }, 
                    "output_type": "execute_result"
                }
            ], 
            "source": "df_risk.head()"
        }, 
        {
            "source": "## 2.3 Using available data for problem solving\n* The Table of Melbourne's riskiest suburbs will be used for Analysis of riskiest suburbs. \n    * Recreate distribution of suburbs risk on a map using json.\n    * Choose risks' range for the future investment. \n* Table of Melbourne suburbs, table of places for sell together with Foursquare and geopy data will be used to map the location of places for sell. Addresses from rental locations will be converted to geodata( lat, long) using Geopy-distance and Nominatim.\n* Foursquare will be used to identify the venues around the referral point. It will be a reference for comparison with the other locations in Melbourne, Vic.\n* Foursquare and geopy data will be used to map top 10 venues for choosen after suburbs after risk-analysis and clustered in groups.\n\nData collection, procesing and analysing let us find answers to questions, such as:\n* What are lees risky areas for investments according client' desires?\n* What is the range of sell-price in less risky suburbs?\n* What is the optimal suburbs where to look for appartment that meets client' criteria?\n* What is the distance from CBD/beach?\n* How venues distribute among most relevant suburbs?\n* Investigate data to find interesting dependencies what help client.\n", 
            "cell_type": "markdown", 
            "metadata": {}
        }, 
        {
            "source": "<a id='meth'></a>\n## 3. Methodology section\n\nThe Methodology section will describe the main components of our analysis and predication system. \nThe Methodology section comprises four stages:\n\n1. Collect Inspection Data\n2. Explore and Understand Data\n3. Data preparation and preprocessing \n4. Modeling", 
            "cell_type": "markdown", 
            "metadata": {}
        }, 
        {
            "source": "<a id='res'></a>\n## 4. Results section \nwhere you discuss the results.", 
            "cell_type": "markdown", 
            "metadata": {}
        }, 
        {
            "source": "<a id='dis'></a>\n## 5. Discussion\nwhere you discuss any observations you noted and any recommendations you can make based on the results.", 
            "cell_type": "markdown", 
            "metadata": {}
        }, 
        {
            "source": "<a id='conc'></a>\n## 6. Conclusion\n where you conclude the report.", 
            "cell_type": "markdown", 
            "metadata": {}
        }, 
        {
            "source": "# THANK YOU FOR YOUR REVIEW!", 
            "cell_type": "markdown", 
            "metadata": {}
        }
    ], 
    "metadata": {
        "kernelspec": {
            "display_name": "Python 3.6", 
            "name": "python3", 
            "language": "python"
        }, 
        "language_info": {
            "mimetype": "text/x-python", 
            "nbconvert_exporter": "python", 
            "version": "3.6.8", 
            "name": "python", 
            "file_extension": ".py", 
            "pygments_lexer": "ipython3", 
            "codemirror_mode": {
                "version": 3, 
                "name": "ipython"
            }
        }, 
        "celltoolbar": "Tags"
    }, 
    "nbformat": 4
}