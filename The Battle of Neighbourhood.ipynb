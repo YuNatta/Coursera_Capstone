{
    "nbformat_minor": 1, 
    "cells": [
        {
            "source": "# Capstone Project - The Battle of Neighbourhoods (Week 1)\n**INVESTMENT IN THE MELBOURN REAL ESTATE MARKET**", 
            "cell_type": "markdown", 
            "metadata": {
                "collapsed": true
            }
        }, 
        {
            "source": "_Author: Yulia Lopez_", 
            "cell_type": "markdown", 
            "metadata": {}
        }, 
        {
            "source": "## Content:\n* <a href='#intro'>1. Introduction</a>\n* <a href='#bp'>1.1. Business Problem</a>\n* <a href='#data'>2. Data Section</a>\n    * <a href='#data21'>2.1 Data Required to resolve the problem</a>\n    * <a href='#data22'>2.2 Data Description</a>\n    * <a href='#data23'> 2.3 Use available data to solve the problem</a>\n* <a href='#meth'>3. Methodology</a>\n* <a href='#res'>4. Results</a>\n* <a href='#dis'>5. Discussion</a>\n* <a href='#conc'>6. Conclusion</a>", 
            "cell_type": "markdown", 
            "metadata": {}
        }, 
        {
            "source": "<a id='intro'></a>\n## 1. Introduction:", 
            "cell_type": "markdown", 
            "metadata": {}
        }, 
        {
            "source": "I work for a prospective investor in the Melbourne real estate market.  The client's view is to attain a foothold in the Melbourne market before the predicted upswing in the next six to twelve months.  The property must be within client's ability to service the loan.  Based on client's approach to a bank, they will lend up to 410k-550k AUD on a property.\n\n**Restrictions** \nAfter conducting research of bank lending practices, even though APRA have lifted recently introduced tougher restrictions on bank lending to investors, banks are still hesitant to lend willingly beyond a Loan-to-Value ratio (LVR) of more than 70%. This means that banks are still only willing to lend 70% of the bank valuation of a property for investment purposes (instead of the 90% pre-restrictions). This is due to the banks wanting to restrict their exposure to poor market conditions and not willing to hold high quantities of security in stock due to the glut of new apartments released into the market, especially in high rise developments. This is the reason many major banks including AMP, Macquarie and NAB will not lend (or severely restrict lending) to real estate \u201cblacklisted\u201d postcode. Typically these will be in or very close to the Melbourne CBD due to the high density of apartments. \n\n**Market Outlook** \nThis is dependent on who is making the prediction but the majority of forecasters are predicting six to 12 months before the upswing genuinely occurs. Even at the moment with auction clearance rates now at 76%, market signs indicate that in some areas and property types the market is bottoming out and the upswing may already be happening. \nAnother factor to consider is the area with many commentators predicting the areas of high demand being the south-east of the city within a 22km radius. This is due to the abundance of good schools (public and private), infrastructure spending, gentrification of older suburbs, good transport links and proximity to beaches and public spaces, but not being too far for a city commute. \n\n**Interested Audience:** I believe this is an interesting and usufull challenge with valid questions for anyone who considered to make an investment in large cities in Australia, Canada, US, EU, Asia, etc. The same methodology can be applied in accordance to demands as applicable. This case is also applicable for anyone interested in exploring starting or locating a new business in any city. Lastly, it can also serve as a good practical exercise to develop Data Science skills.", 
            "cell_type": "markdown", 
            "metadata": {}
        }, 
        {
            "source": "<a id='bp'></a>\n## 1.1 Business Problem:", 
            "cell_type": "markdown", 
            "metadata": {}
        }, 
        {
            "source": "The aim of this project is to locate an investment apartment in a bank lending \u201csweet spot\u201d rather than a \u201cblacklisted\u201d postcode. From research (shown later), these range from 7km to 20km distance from the Melbourne CBD, are not in a high rise development (more than four stories high), located in a south-east direction of the CBD (higher demand and better schools) and are two bedrooms or more. ", 
            "cell_type": "markdown", 
            "metadata": {}
        }, 
        {
            "source": "<a id='data'></a>\n# 2. Data Section", 
            "cell_type": "markdown", 
            "metadata": {}
        }, 
        {
            "source": "<a id='data21'></a>\n## 2.1 Data Required to resolve the problem", 
            "cell_type": "markdown", 
            "metadata": {}
        }, 
        {
            "source": "###  Data of Referral Point : \n**Ideal property** for client' personal circumstances and cashflow position, - a two bedroom, one bathroom, with 1 car space apartment in the 7 to 22km range. The price should be no more than 410k-550k AUD. Client made a choice of reference point - 209/222 Bay Road Sandringham Vic 3191 being 19km from the city centre in the south\u2013east and also being a beach-side postcode. Even though a little higher in price at $425k, most sales in Melbourne (non-auction) are selling at below asking price. Foursquare will be used to identify the venues around the referral area of residence which will be shown later in map. It serves as a reference for comparison with the future location in Melbourne, Vic.\n\n###  Data for suburbs analysis: \nIn order to make a good choice of a appropriate apartment in Melbourne Vic, the following data is required: \n* Information on Melbourne neighborhoods with Geodata ( latitud and longitud. Information about the subway metro stations in Melbourne with geodata. \n* Listed apartments for sell in Melbourne area with descriptions ( number of beds, bath, garash spots, price, location, address) \n* List of \u201csweet spot\u201d/\u201cblacklisted\u201d postcode of Melbourne according to Bank.\n* Venues and ammenities in the Melbourne neighbourhoods (e.g. top 10). \n", 
            "cell_type": "markdown", 
            "metadata": {}
        }, 
        {
            "source": "<a id='data22'></a>\n## 2.2 Data Description\n\n* The table of Melvourne Suburbs will be taken from Wikipage - https://en.wikipedia.org/wiki/List_of_Melbourne_suburbs and from database at http://www.corra.com.au/australian-postcode-location-data/. \n* Table of Melbourne's riskiest suburbs for home loan lending will be taken from Australian Bureau of Statistics.\n* A list of places for sell was collected by web-browsing real estate companies in Melbourne - https://www.realestate.com.au/. A \"Msuburbs.csv\" csv file was compiled with the rental place that indicated: suburb of Melbourne, address, price, array sqr/m., number of beds, number of garash spots. ", 
            "cell_type": "markdown", 
            "metadata": {}
        }, 
        {
            "source": "## 2.3 Use available data to solve the problem\n* The Table of Melbourne's riskiest suburbs will be used for Analysis of riskiest suburbs. \n    * Recreate distribution of suburbs risk on a map using json.\n    * Choose risks' range for the future investment. \n* Table of Melbourne suburbs, table of places for sell together with Foursquare and geopy data will be used to map the location of places for sell. Addresses from rental locations will be converted to geodata( lat, long) using Geopy-distance and Nominatim.\n* Foursquare will be used to identify the venues around the referral point. It will be a reference for comparison with the other locations in Melbourne, Vic.\n* Foursquare and geopy data will be used to map top 10 venues for choosen after suburbs afte risk-analysis and clustered in groups.\n", 
            "cell_type": "markdown", 
            "metadata": {}
        }, 
        {
            "source": "<a id='meth'></a>\n## 3. Methodology section\n\nThe Methodology section will describe the main components of our analysis and predication system. \nThe Methodology section comprises four stages:\n\n1. Collect Inspection Data\n2. Explore and Understand Data\n3. Data preparation and preprocessing \n4. Modeling", 
            "cell_type": "markdown", 
            "metadata": {}
        }, 
        {
            "source": "<a id='res'></a>\n## 4. Results section \nwhere you discuss the results.", 
            "cell_type": "markdown", 
            "metadata": {}
        }, 
        {
            "source": "<a id='dis'></a>\n## 5. Discussion\nwhere you discuss any observations you noted and any recommendations you can make based on the results.", 
            "cell_type": "markdown", 
            "metadata": {}
        }, 
        {
            "source": "<a id='conc'></a>\n## 6. Conclusion\n where you conclude the report.", 
            "cell_type": "markdown", 
            "metadata": {}
        }
    ], 
    "metadata": {
        "kernelspec": {
            "display_name": "Python 3.6", 
            "name": "python3", 
            "language": "python"
        }, 
        "language_info": {
            "mimetype": "text/x-python", 
            "nbconvert_exporter": "python", 
            "version": "3.6.8", 
            "name": "python", 
            "file_extension": ".py", 
            "pygments_lexer": "ipython3", 
            "codemirror_mode": {
                "version": 3, 
                "name": "ipython"
            }
        }
    }, 
    "nbformat": 4
}