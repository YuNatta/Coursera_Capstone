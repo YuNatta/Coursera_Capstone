{
    "nbformat_minor": 1, 
    "cells": [
        {
            "source": "# APPLIED DATA SCIENCE - CAPSTONE", 
            "cell_type": "markdown", 
            "metadata": {
                "collapsed": true
            }
        }, 
        {
            "source": "_Author: Yulia Lopez_", 
            "cell_type": "markdown", 
            "metadata": {}
        }, 
        {
            "source": "### Description: This notebook is for the \"Applied Data Science Capstone\" assignments of the IBM Data Science Course. ", 
            "cell_type": "markdown", 
            "metadata": {}
        }, 
        {
            "source": "<a href='#ass1'>Assignment1</a>", 
            "cell_type": "markdown", 
            "metadata": {}
        }, 
        {
            "source": "<a id='ass1'></a>\n#### Assignment 1: \n* Write some markdown to explain that this notebook will be mainly used for the capstone project.\n* Import the pandas library as pd.\n* Import the Numpy library as np.\n* Print the following the statement: Hello Capstone Project Course! ", 
            "cell_type": "markdown", 
            "metadata": {}
        }, 
        {
            "execution_count": 9, 
            "cell_type": "code", 
            "metadata": {}, 
            "outputs": [], 
            "source": "import pandas as pd\nimport numpy as np"
        }, 
        {
            "execution_count": 2, 
            "cell_type": "code", 
            "metadata": {}, 
            "outputs": [
                {
                    "output_type": "stream", 
                    "name": "stdout", 
                    "text": "Hello Capstone Project Course!\n"
                }
            ], 
            "source": "print('Hello Capstone Project Course!')"
        }
    ], 
    "metadata": {
        "kernelspec": {
            "display_name": "Python 3.6", 
            "name": "python3", 
            "language": "python"
        }, 
        "language_info": {
            "mimetype": "text/x-python", 
            "nbconvert_exporter": "python", 
            "version": "3.6.8", 
            "name": "python", 
            "file_extension": ".py", 
            "pygments_lexer": "ipython3", 
            "codemirror_mode": {
                "version": 3, 
                "name": "ipython"
            }
        }
    }, 
    "nbformat": 4
}